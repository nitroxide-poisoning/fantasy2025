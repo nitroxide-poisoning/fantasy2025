{
 "cells": [
  {
   "cell_type": "code",
   "execution_count": 1,
   "metadata": {},
   "outputs": [
    {
     "name": "stderr",
     "output_type": "stream",
     "text": [
      "/home/asadhneni/.local/lib/python3.10/site-packages/numpy/_core/getlimits.py:551: UserWarning: Signature b'\\x00\\xd0\\xcc\\xcc\\xcc\\xcc\\xcc\\xcc\\xfb\\xbf\\x00\\x00\\x00\\x00\\x00\\x00' for <class 'numpy.longdouble'> does not match any known type: falling back to type probe function.\n",
      "This warnings indicates broken support for the dtype!\n",
      "  machar = _get_machar(dtype)\n"
     ]
    },
    {
     "name": "stdout",
     "output_type": "stream",
     "text": [
      "    YEAR  Rk             Player   Tm FantPos  Age   G  GS  Cmp  Att  ...  \\\n",
      "4   2024   5      Ja'Marr Chase  CIN      WR   24  17  16    0    0  ...   \n",
      "11  2024  12   Justin Jefferson  MIN      WR   25  17  17    1    1  ...   \n",
      "17  2024  18  Amon-Ra St. Brown  DET      WR   25  17  17    1    1  ...   \n",
      "18  2024  19       Brian Thomas  JAX      WR   22  17  16    0    0  ...   \n",
      "22  2024  23     Terry McLaurin  WAS      WR   29  17  17    0    0  ...   \n",
      "25  2024  26       Drake London  ATL      WR   23  17  17    0    0  ...   \n",
      "34  2024  35         Mike Evans  TAM      WR   31  14  14    0    0  ...   \n",
      "36  2024  37       Malik Nabers  NYG      WR   21  15  13    0    1  ...   \n",
      "39  2024  40        CeeDee Lamb  DAL      WR   25  15  15    0    0  ...   \n",
      "41  2024  42   Courtland Sutton  DEN      WR   29  17  13    2    2  ...   \n",
      "\n",
      "    Yds.2    Y/R  TD.2  Fmb  FL  TD.3  14:00:00  2PP    PPR      PPR/G  \n",
      "4    1708  13.45    17    0   0    17       0.0  0.0  403.0  23.705882  \n",
      "11   1533  14.88    10    1   0    10       0.0  0.0  317.5  18.676471  \n",
      "17   1263  10.98    12    1   1    12       0.0  0.0  316.2  18.600000  \n",
      "18   1282  14.74    10    0   0    10       2.0  0.0  284.0  16.705882  \n",
      "22   1096  13.37    13    1   1    13       0.0  0.0  267.8  15.752941  \n",
      "25   1271  12.71     9    0   0     9       0.0  0.0  280.8  16.517647  \n",
      "34   1004  13.57    11    0   0    11       0.0  0.0  240.4  17.171429  \n",
      "36   1204  11.05     7    1   0     7       1.0  0.0  273.6  18.240000  \n",
      "39   1194  11.82     6    1   1     6       1.0  0.0  263.4  17.560000  \n",
      "41   1081  13.35     8    1   1     8       0.0  0.0  240.3  14.135294  \n",
      "\n",
      "[10 rows x 29 columns]\n"
     ]
    }
   ],
   "source": [
    "import os\n",
    "import pandas as pd\n",
    "\n",
    "# Define paths\n",
    "pro_football_focus_data = 'data/pro_football_ref.xlsx'\n",
    "results_path = 'results'\n",
    "model_path = 'model_path/trained_model.pth'\n",
    "predictions_path = os.path.join(results_path, 'predictions_2025.xlsx')\n",
    "\n",
    "# Load and preprocess the pro football focus data.\n",
    "df = pd.read_excel(pro_football_focus_data)\n",
    "# Filter to only include wide receivers (WR)\n",
    "df = df[df['FantPos'] == 'WR'].copy()\n",
    "df.replace([float('inf'), -float('inf')], 0, inplace=True)\n",
    "df.fillna(0, inplace=True)\n",
    "\n",
    "# Calculate points per game.\n",
    "df.loc[:, 'PPR/G'] = df['PPR'] / df['G']\n",
    "\n",
    "print(df.head(10))"
   ]
  },
  {
   "cell_type": "code",
   "execution_count": 2,
   "metadata": {},
   "outputs": [
    {
     "name": "stdout",
     "output_type": "stream",
     "text": [
      "    YEAR  Rk   Tm FantPos  Age   G  GS  Cmp  Att  Yds  ...  Yds.2    Y/R  \\\n",
      "4   2024   5  CIN      WR   24  17  16    0    0    0  ...   1708  13.45   \n",
      "11  2024  12  MIN      WR   25  17  17    1    1   22  ...   1533  14.88   \n",
      "17  2024  18  DET      WR   25  17  17    1    1    7  ...   1263  10.98   \n",
      "18  2024  19  JAX      WR   22  17  16    0    0    0  ...   1282  14.74   \n",
      "22  2024  23  WAS      WR   29  17  17    0    0    0  ...   1096  13.37   \n",
      "25  2024  26  ATL      WR   23  17  17    0    0    0  ...   1271  12.71   \n",
      "34  2024  35  TAM      WR   31  14  14    0    0    0  ...   1004  13.57   \n",
      "36  2024  37  NYG      WR   21  15  13    0    1    0  ...   1204  11.05   \n",
      "39  2024  40  DAL      WR   25  15  15    0    0    0  ...   1194  11.82   \n",
      "41  2024  42  DEN      WR   29  17  13    2    2   30  ...   1081  13.35   \n",
      "\n",
      "    TD.2  Fmb  FL  TD.3  14:00:00  2PP    PPR      PPR/G  \n",
      "4     17    0   0    17       0.0  0.0  403.0  23.705882  \n",
      "11    10    1   0    10       0.0  0.0  317.5  18.676471  \n",
      "17    12    1   1    12       0.0  0.0  316.2  18.600000  \n",
      "18    10    0   0    10       2.0  0.0  284.0  16.705882  \n",
      "22    13    1   1    13       0.0  0.0  267.8  15.752941  \n",
      "25     9    0   0     9       0.0  0.0  280.8  16.517647  \n",
      "34    11    0   0    11       0.0  0.0  240.4  17.171429  \n",
      "36     7    1   0     7       1.0  0.0  273.6  18.240000  \n",
      "39     6    1   1     6       1.0  0.0  263.4  17.560000  \n",
      "41     8    1   1     8       0.0  0.0  240.3  14.135294  \n",
      "\n",
      "[10 rows x 28 columns]\n"
     ]
    }
   ],
   "source": [
    "# Copy the 2024 data into separate dataframe.\n",
    "df_2024 = df[df['YEAR'] == 2024].copy()\n",
    "player_names_2024 = df_2024['Player'].reset_index(drop=True)\n",
    "df_2024 = df_2024.drop(columns=['Player'])\n",
    "\n",
    "print(df_2024.head(10))"
   ]
  },
  {
   "cell_type": "code",
   "execution_count": 3,
   "metadata": {},
   "outputs": [
    {
     "name": "stdout",
     "output_type": "stream",
     "text": [
      "    YEAR  Rk              Player   Tm FantPos  Age   G  GS  Cmp  Att  ...  \\\n",
      "4   2024   5       Ja'Marr Chase  CIN      WR   24  17  16    0    0  ...   \n",
      "11  2024  12    Justin Jefferson  MIN      WR   25  17  17    1    1  ...   \n",
      "17  2024  18   Amon-Ra St. Brown  DET      WR   25  17  17    1    1  ...   \n",
      "22  2024  23      Terry McLaurin  WAS      WR   29  17  17    0    0  ...   \n",
      "25  2024  26        Drake London  ATL      WR   23  17  17    0    0  ...   \n",
      "34  2024  35          Mike Evans  TAM      WR   31  14  14    0    0  ...   \n",
      "39  2024  40         CeeDee Lamb  DAL      WR   25  15  15    0    0  ...   \n",
      "41  2024  42    Courtland Sutton  DEN      WR   29  17  13    2    2  ...   \n",
      "45  2024  46       Davante Adams  2TM      WR   32  14  14    0    0  ...   \n",
      "47  2024  48    Jameson Williams  DET      WR   23  15  11    0    0  ...   \n",
      "49  2024  50  Jaxon Smith-Njigba  SEA      WR   22  17  16    1    1  ...   \n",
      "50  2024  51         Jerry Jeudy  CLE      WR   25  17  16    0    0  ...   \n",
      "51  2024  52      Garrett Wilson  NYJ      WR   24  17  17    0    0  ...   \n",
      "53  2024  54      Jordan Addison  MIN      WR   22  15  15    0    0  ...   \n",
      "54  2024  55          A.J. Brown  PHI      WR   27  13  13    0    0  ...   \n",
      "55  2024  56         Tee Higgins  CIN      WR   25  12   9    0    0  ...   \n",
      "59  2024  60        Nico Collins  HOU      WR   25  12  12    0    0  ...   \n",
      "60  2024  61         Jayden Reed  GNB      WR   24  17  10    0    0  ...   \n",
      "64  2024  65          D.J. Moore  CHI      WR   27  17  17    0    1  ...   \n",
      "65  2024  66         Tyreek Hill  MIA      WR   30  17  17    0    0  ...   \n",
      "\n",
      "      Y/R  TD.2  Fmb  FL  TD.3  14:00:00  2PP    PPR      PPR/G  NextYearPPR/G  \n",
      "4   13.45    17    0   0    17       0.0  0.0  403.0  23.705882      16.418750  \n",
      "11  14.88    10    1   0    10       0.0  0.0  317.5  18.676471      20.220000  \n",
      "17  10.98    12    1   1    12       0.0  0.0  316.2  18.600000      20.681250  \n",
      "22  13.37    13    1   1    13       0.0  0.0  267.8  15.752941      12.305882  \n",
      "25  12.71     9    0   0     9       0.0  0.0  280.8  16.517647      10.900000  \n",
      "34  13.57    11    0   0    11       0.0  0.0  240.4  17.171429      16.617647  \n",
      "39  11.82     6    1   1     6       1.0  0.0  263.4  17.560000      23.717647  \n",
      "41  13.35     8    1   1     8       0.0  0.0  240.3  14.135294      11.887500  \n",
      "45  12.51     8    0   0     8       1.0  0.0  241.3  17.235714      15.611765  \n",
      "47  17.26     7    0   0     8       0.0  0.0  212.2  14.146667       6.691667  \n",
      "49  11.30     6    1   0     6       0.0  0.0  253.0  14.882353       8.811765  \n",
      "50  13.66     4    0   0     4       2.0  0.0  240.9  14.170588       8.862500  \n",
      "51  10.93     7    2   2     7       1.0  0.0  251.9  14.817647      12.541176  \n",
      "53  13.89     9    0   0    10       0.0  0.0  212.5  14.166667      13.017647  \n",
      "54  16.10     7    0   0     7       0.0  0.0  216.9  16.684615      17.035294  \n",
      "55  12.48    10    1   1    10       0.0  0.0  222.1  18.508333      11.466667  \n",
      "59  14.79     7    0   0     7       0.0  0.0  210.6  17.550000      17.360000  \n",
      "60  15.58     6    3   1     7       0.0  0.0  197.0  11.588235      13.575000  \n",
      "64   9.86     6    1   1     6       1.0  0.0  238.1  14.005882      16.852941  \n",
      "65  11.84     6    0   0     6       0.0  0.0  218.2  12.835294      23.525000  \n",
      "\n",
      "[20 rows x 30 columns]\n"
     ]
    }
   ],
   "source": [
    "# Shift to represent the following year's points per game\n",
    "df['NextYearPPR/G'] = df.groupby('Player')['PPR/G'].shift(-1)\n",
    "\n",
    "# Remove rows where the target is NaN (i.e., no following year data)\n",
    "df = df[df['NextYearPPR/G'].notna()]\n",
    "\n",
    "print(df.head(20))"
   ]
  },
  {
   "cell_type": "code",
   "execution_count": 4,
   "metadata": {},
   "outputs": [
    {
     "name": "stdout",
     "output_type": "stream",
     "text": [
      "[[[ 0.07291581  0.8277448   0.07323932 ... -0.4587905  -0.52396337\n",
      "    0.8725029 ]]\n",
      "\n",
      " [[-0.0438196   0.11049521  0.41197116 ... -0.57168286 -0.25288135\n",
      "   -0.22064043]]\n",
      "\n",
      " [[-0.0438196  -0.60675439 -0.26549252 ...  0.33145605  0.08668455\n",
      "    0.08870065]]\n",
      "\n",
      " ...\n",
      "\n",
      " [[ 1.97959417  0.8277448  -1.28168804 ... -1.39956019 -1.30582099\n",
      "   -1.73509042]]\n",
      "\n",
      " [[ 1.51265253  0.11049521 -0.9429562  ... -1.39956019 -1.14602527\n",
      "    0.41887173]]\n",
      "\n",
      " [[-1.35385031 -0.60675439  0.750703   ...  0.67013314  1.71888366\n",
      "    0.94444068]]]\n"
     ]
    }
   ],
   "source": [
    "from sklearn.model_selection import train_test_split\n",
    "from sklearn.preprocessing import StandardScaler\n",
    "\n",
    "# Define features and target.\n",
    "feature_names = ['Rk', 'Age', 'TD.3', 'Tgt', 'Rec', 'Yds.2', 'PPR/G']\n",
    "target = 'NextYearPPR/G'\n",
    "\n",
    "# Split the data into training, validation, and test sets\n",
    "X = df[feature_names]\n",
    "y = df[target]\n",
    "X_train, X_temp, y_train, y_temp = train_test_split(X, y, test_size=0.4, random_state=42)\n",
    "X_val, X_test, y_val, y_test = train_test_split(X_temp, y_temp, test_size=0.5, random_state=42)\n",
    "X_2024 = df_2024[feature_names]\n",
    "\n",
    "# Standardize the data\n",
    "scaler = StandardScaler()\n",
    "X_train = scaler.fit_transform(X_train)\n",
    "X_val = scaler.transform(X_val)\n",
    "X_test = scaler.transform(X_test)\n",
    "X_2024 = scaler.transform(X_2024)\n",
    "\n",
    "# Ensure X_train, X_val, X_test, and X_2024 are correctly shaped for LSTM\n",
    "X_train = X_train.reshape(X_train.shape[0], 1, X_train.shape[1])\n",
    "X_val = X_val.reshape(X_val.shape[0], 1, X_val.shape[1])\n",
    "X_test = X_test.reshape(X_test.shape[0], 1, X_test.shape[1])\n",
    "X_2024 = X_2024.reshape(X_2024.shape[0], 1, X_2024.shape[1])\n",
    "\n",
    "# Check to see standardized data.\n",
    "print(X_train.view())"
   ]
  },
  {
   "cell_type": "code",
   "execution_count": null,
   "metadata": {},
   "outputs": [],
   "source": [
    "from nnclass.simple_nn import SimpleLSTM\n",
    "from torch.utils.data import TensorDataset, DataLoader\n",
    "import torch\n",
    "\n",
    "# Create SimpleLTSM.\n",
    "input_size = X_train.shape[2]\n",
    "hidden_size = 32\n",
    "output_size = 1\n",
    "lstm = SimpleLSTM(input_size, hidden_size, output_size)\n",
    "\n",
    "X_train_tensor = torch.tensor(X_train, dtype=torch.float32)\n",
    "y_train_tensor = torch.tensor(y_train.values, dtype=torch.float32).view(-1, 1)\n",
    "X_val_tensor = torch.tensor(X_val, dtype=torch.float32)\n",
    "y_val_tensor = torch.tensor(y_val.values, dtype=torch.float32).view(-1, 1)\n",
    "\n",
    "train_dataset = TensorDataset(X_train_tensor, y_train_tensor)\n",
    "train_loader = DataLoader(train_dataset, batch_size=32, shuffle=True)\n",
    "val_dataset = TensorDataset(X_val_tensor, y_val_tensor)\n",
    "val_loader = DataLoader(val_dataset, batch_size=32, shuffle=False)"
   ]
  },
  {
   "cell_type": "code",
   "execution_count": null,
   "metadata": {},
   "outputs": [],
   "source": [
    "import torch.optim as optim\n",
    "import torch.nn as nn\n",
    "\n",
    "# Train and evaluate the model.\n",
    "criterion = nn.MSELoss()\n",
    "optimizer = optim.Adam(lstm.parameters())\n",
    "\n",
    "num_epochs = 10\n",
    "for epoch in range(num_epochs):\n",
    "    lstm.train() # Set model to training mode\n",
    "    for inputs, labels in train_loader:\n",
    "        # Forward pass\n",
    "        outputs = lstm(inputs)\n",
    "        loss = criterion(outputs, labels)\n",
    "\n",
    "        # Backward and optimize\n",
    "        optimizer.zero_grad()\n",
    "        loss.backward()\n",
    "        optimizer.step()\n",
    "    print(f'Epoch [{epoch+1}/{num_epochs}], Loss: {loss.item():.4f}')"
   ]
  }
 ],
 "metadata": {
  "kernelspec": {
   "display_name": "Python 3",
   "language": "python",
   "name": "python3"
  },
  "language_info": {
   "codemirror_mode": {
    "name": "ipython",
    "version": 3
   },
   "file_extension": ".py",
   "mimetype": "text/x-python",
   "name": "python",
   "nbconvert_exporter": "python",
   "pygments_lexer": "ipython3",
   "version": "3.10.12"
  }
 },
 "nbformat": 4,
 "nbformat_minor": 2
}
