{
 "cells": [
  {
   "cell_type": "code",
   "execution_count": 3,
   "metadata": {},
   "outputs": [
    {
     "name": "stdout",
     "output_type": "stream",
     "text": [
      "    YEAR  Rk             Player   Tm FantPos  Age   G  GS  Cmp  Att  ...  Rec  \\\n",
      "4   2024   5      Ja'Marr Chase  CIN      WR   24  17  16    0    0  ...  127   \n",
      "11  2024  12   Justin Jefferson  MIN      WR   25  17  17    1    1  ...  103   \n",
      "17  2024  18  Amon-Ra St. Brown  DET      WR   25  17  17    1    1  ...  115   \n",
      "18  2024  19       Brian Thomas  JAX      WR   22  17  16    0    0  ...   87   \n",
      "22  2024  23     Terry McLaurin  WAS      WR   29  17  17    0    0  ...   82   \n",
      "25  2024  26       Drake London  ATL      WR   23  17  17    0    0  ...  100   \n",
      "34  2024  35         Mike Evans  TAM      WR   31  14  14    0    0  ...   74   \n",
      "36  2024  37       Malik Nabers  NYG      WR   21  15  13    0    1  ...  109   \n",
      "39  2024  40        CeeDee Lamb  DAL      WR   25  15  15    0    0  ...  101   \n",
      "41  2024  42   Courtland Sutton  DEN      WR   29  17  13    2    2  ...   81   \n",
      "\n",
      "    Yds.2    Y/R  TD.2  Fmb  FL  TD.3  14:00:00  2PP    PPR  \n",
      "4    1708  13.45    17    0   0    17       0.0  0.0  403.0  \n",
      "11   1533  14.88    10    1   0    10       0.0  0.0  317.5  \n",
      "17   1263  10.98    12    1   1    12       0.0  0.0  316.2  \n",
      "18   1282  14.74    10    0   0    10       2.0  0.0  284.0  \n",
      "22   1096  13.37    13    1   1    13       0.0  0.0  267.8  \n",
      "25   1271  12.71     9    0   0     9       0.0  0.0  280.8  \n",
      "34   1004  13.57    11    0   0    11       0.0  0.0  240.4  \n",
      "36   1204  11.05     7    1   0     7       1.0  0.0  273.6  \n",
      "39   1194  11.82     6    1   1     6       1.0  0.0  263.4  \n",
      "41   1081  13.35     8    1   1     8       0.0  0.0  240.3  \n",
      "\n",
      "[10 rows x 28 columns]\n"
     ]
    }
   ],
   "source": [
    "import os\n",
    "import pandas as pd\n",
    "\n",
    "# Define paths\n",
    "pro_football_focus_data = 'data/pro_football_ref.xlsx'\n",
    "results_path = 'results'\n",
    "model_path = 'models/trained_model.pth'\n",
    "predictions_path = os.path.join(results_path, 'predictions_2025.xlsx')\n",
    "\n",
    "# Load and preprocess the pro football focus data.\n",
    "df = pd.read_excel(pro_football_focus_data)\n",
    "# Filter to only include wide receivers (WR)\n",
    "df = df[df['FantPos'] == 'WR'].copy()\n",
    "df.replace([float('inf'), -float('inf')], 0, inplace=True)\n",
    "df.fillna(0, inplace=True)\n",
    "\n",
    "print(df.head(10))"
   ]
  },
  {
   "cell_type": "code",
   "execution_count": null,
   "metadata": {},
   "outputs": [],
   "source": []
  }
 ],
 "metadata": {
  "kernelspec": {
   "display_name": "Python 3",
   "language": "python",
   "name": "python3"
  },
  "language_info": {
   "codemirror_mode": {
    "name": "ipython",
    "version": 3
   },
   "file_extension": ".py",
   "mimetype": "text/x-python",
   "name": "python",
   "nbconvert_exporter": "python",
   "pygments_lexer": "ipython3",
   "version": "3.10.12"
  }
 },
 "nbformat": 4,
 "nbformat_minor": 2
}
